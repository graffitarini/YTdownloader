from pytube import YouTube
from sys import argv

#link = argv[1]

#t = yt.streams.filter(only_audio=True)
#t[1].download('/Users/novegagraffitarini/Desktop/My Python Stuff')

link = input("Enter the link: ")
yt = YouTube(link)

#Title of video
print("Title: ",yt.title)
#Number of views of video
print("Number of views: ",yt.views)
#Length of the video
print("Length of video: ",yt.length,"seconds")
#Description of video
print("Description: ",yt.description)
#Rating
print("Ratings: ",yt.rating)

yd = yt.streams.get_highest_resolution()

# ADD FOLDER HERE
yd.download('/Users/novegagraffitarini/Desktop/My Python Stuff')
