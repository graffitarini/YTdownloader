{
 "cells": [
  {
   "cell_type": "code",
   "execution_count": null,
   "id": "13f2f9c4",
   "metadata": {},
   "outputs": [],
   "source": [
    "from pytube import YouTube\n",
    "from sys import argv\n",
    "\n",
    "#link = argv[1]\n",
    "\n",
    "#t = yt.streams.filter(only_audio=True)\n",
    "#t[1].download('/Users/novegagraffitarini/Desktop/My Python Stuff')\n",
    "\n",
    "link = input(\"Enter the link: \")\n",
    "yt = YouTube(link)\n",
    "\n",
    "#Title of video\n",
    "print(\"Title: \",yt.title)\n",
    "#Number of views of video\n",
    "print(\"Number of views: \",yt.views)\n",
    "#Length of the video\n",
    "print(\"Length of video: \",yt.length,\"seconds\")\n",
    "#Description of video\n",
    "print(\"Description: \",yt.description)\n",
    "#Rating\n",
    "print(\"Ratings: \",yt.rating)\n",
    "\n",
    "yd = yt.streams.get_highest_resolution()\n",
    "\n",
    "# ADD FOLDER HERE\n",
    "yd.download('/Users/novegagraffitarini/Desktop/My Python Stuff')"
   ]
  },
  {
   "cell_type": "code",
   "execution_count": null,
   "id": "43156e57",
   "metadata": {},
   "outputs": [],
   "source": []
  },
  {
   "cell_type": "code",
   "execution_count": null,
   "id": "4f7c76dc",
   "metadata": {},
   "outputs": [],
   "source": []
  }
 ],
 "metadata": {
  "interpreter": {
   "hash": "aee8b7b246df8f9039afb4144a1f6fd8d2ca17a180786b69acc140d282b71a49"
  },
  "kernelspec": {
   "display_name": "Python 3",
   "language": "python",
   "name": "python3"
  },
  "language_info": {
   "codemirror_mode": {
    "name": "ipython",
    "version": 3
   },
   "file_extension": ".py",
   "mimetype": "text/x-python",
   "name": "python",
   "nbconvert_exporter": "python",
   "pygments_lexer": "ipython3",
   "version": "3.8.8"
  },
  "toc": {
   "base_numbering": 1,
   "nav_menu": {},
   "number_sections": true,
   "sideBar": true,
   "skip_h1_title": false,
   "title_cell": "Table of Contents",
   "title_sidebar": "Contents",
   "toc_cell": false,
   "toc_position": {},
   "toc_section_display": true,
   "toc_window_display": false
  }
 },
 "nbformat": 4,
 "nbformat_minor": 5
}
