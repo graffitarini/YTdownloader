{
 "cells": [
  {
   "cell_type": "code",
   "execution_count": 35,
   "id": "13f2f9c4",
   "metadata": {},
   "outputs": [
    {
     "name": "stdout",
     "output_type": "stream",
     "text": [
      "Enter the link: https://www.youtube.com/watch?v=vEQ8CXFWLZU\n",
      "Title:  3 PYTHON AUTOMATION PROJECTS FOR BEGINNERS\n",
      "Number of views:  23872\n",
      "Length of video:  1020 seconds\n",
      "Description:  Build these simple beginner Python projects to practice your Python skills and bolster your portfolio.\n",
      "\n",
      "Python is one of the most powerful programming languages out there due to its versatility and the prevalence of libraries to achieve all sorts of interesting things.\n",
      "\n",
      "These are some examples of Python scripting projects you can do as a beginner very easily to see the power of the Python programming language and learn to code in the process.\n",
      "\n",
      "I also teach the basics of zsh shell scripting to make running these programs from your terminal window even easier.\n",
      "\n",
      "My code:\n",
      "https://github.com/tuomaskivioja/3-Simple-Python-Projects\n",
      "\n",
      "Pillow Python library:\n",
      "https://pillow.readthedocs.io/en/stable/\n",
      "\n",
      "PyPDF2 Python library:\n",
      "https://pypi.org/project/PyPDF2/\n",
      "\n",
      "Pytube Python library:\n",
      "https://pytube.io/en/latest/\n",
      "\n",
      "\n",
      "CODING RESOURCES\n",
      "💰 MY FAVOURITE CODING COURSES. Use Code  FRIENDS10 for 10% off - https://academy.zerotomastery.io/a/aff_r1613hhr/external?affcode=441520_vhlt5jy9\n",
      "💵 GET THE SKILLS YOU NEED FOR A $100K TECH CAREER IN JUST 3 MONTHS - https://imp.i115008.net/c/3259109/786224/11298\n",
      "🐍 BEST PYTHON COURSE - https://academy.zerotomastery.io/a/aff_yp0m7fjx/external?affcode=441520_vhlt5jy9\n",
      "➕ BEST DATA STRUCTURES & ALGORITHMS COURSE - https://academy.zerotomastery.io/a/aff_nqb6sg6w/external?affcode=441520_vhlt5jy9\n",
      "📗 BEST BOOK TO PASS CODING INTERVIEWS - https://amzn.to/3i8B8EK\n",
      "📱 BEST MOBILE DEVELOPMENT COURSE - https://click.linksynergy.com/link?id=5Oygk*VSRDk&offerid=1060092.1778502&type=2&murl=https%3A%2F%2Fwww.udemy.com%2Fcourse%2Fios-13-app-development-bootcamp%2F\n",
      "\n",
      "OTHER AMAZING LEARNING RESOURCES\n",
      "📚 Get 1 Month Free on Skillshare and learn any skill. Code: aff30d21 🏆 (affiliate link) https://skillshare.eqcm.net/LPr92a\n",
      "📘 Make It Stick: The Science of Successful Learning - https://amzn.to/3v16zYH\n",
      "\n",
      "MY BLOG\n",
      "📗 JOIN MEDIUM TO ACCESS MY BLOG CONTENT - https://medium.com/@internetpreneur/membership\n",
      "\n",
      "GEAR\n",
      "⌨️ BEST KEYBOARD FOR PROGRAMMERS - https://amzn.to/3Ly2mSD\n",
      "🖱 BEST PRODUCTIVITY MOUSE - https://amzn.to/3gF7MgH\n",
      "🔊 MY SPEAKERS - https://amzn.to/3waA5MP\n",
      "🎧 MY HEADSET - https://amzn.to/3CNkdkt\n",
      "\n",
      "📸 MY CAMERA FOR YOUTUBE VIDEOS - https://amzn.to/3BjU7Vv\n",
      "🎤 MY MIC  - https://amzn.to/34Q1QP6\n",
      "📹 BEST AFFORDABLE GIMBAL - https://amzn.to/34VKGPZ\n",
      "\n",
      "OTHER VIDEOS\n",
      "💻 How I Learned to Code in 4 MONTHS - & Got a Software Engineer Job (no CS Degree) - https://youtu.be/-VDXBHLU8q4\n",
      "⌨️ How I'm Teaching Myself Computer Science using Notion (OSSU) - https://youtu.be/gE5DVOfXy1s\n",
      "🖱 CS50 FULL REVIEW - Best Course to Learn Computer Science in 2022? (edX, Harvard) - https://youtu.be/-Zj1kepwRuw\n",
      "\n",
      "🎵 WHERE I GET MY MUSIC - https://share.epidemicsound.com/pbcy6d\n",
      "📸 PERSONAL INSTAGRAM - https://www.instagram.com/tuomaskivioja/\n",
      "📷 OTHER INSTAGRAM - https://www.instagram.com/internetmcoder/\n",
      "\n",
      "WHO AM I?\n",
      "On this channel, my aim is to give you the tools, strategies and methods to learn to code effectively - according to science! In addition, I document my life as a self-taught software engineer.\n",
      "\n",
      "CHAPTERS:\n",
      "0:00 Python is amazing\n",
      "1:00 Project 1\n",
      "5:20 Project 2\n",
      "9:26 Project 3\n",
      "13:00 SHELL SCRIPTING BASICS\n",
      "\n",
      "DISCLAIMER: some of the links in the description may be affiliate links. If you purchase a product or service using the links that I provide I may receive a small commission. This is no extra charge to you! Thanks for supporting Internet Made Coder :)\n",
      "Ratings:  None\n"
     ]
    },
    {
     "data": {
      "text/plain": [
       "'/Users/novegagraffitarini/Desktop/My Python Stuff/3 PYTHON AUTOMATION PROJECTS FOR BEGINNERS.mp4'"
      ]
     },
     "execution_count": 35,
     "metadata": {},
     "output_type": "execute_result"
    }
   ],
   "source": [
    "from pytube import YouTube\n",
    "from sys import argv\n",
    "\n",
    "#link = argv[1]\n",
    "\n",
    "#t = yt.streams.filter(only_audio=True)\n",
    "#t[1].download('/Users/novegagraffitarini/Desktop/My Python Stuff')\n",
    "\n",
    "link = input(\"Enter the link: \")\n",
    "yt = YouTube(link)\n",
    "\n",
    "#Title of video\n",
    "print(\"Title: \",yt.title)\n",
    "#Number of views of video\n",
    "print(\"Number of views: \",yt.views)\n",
    "#Length of the video\n",
    "print(\"Length of video: \",yt.length,\"seconds\")\n",
    "#Description of video\n",
    "print(\"Description: \",yt.description)\n",
    "#Rating\n",
    "print(\"Ratings: \",yt.rating)\n",
    "\n",
    "yd = yt.streams.get_highest_resolution()\n",
    "\n",
    "# ADD FOLDER HERE\n",
    "yd.download('/Users/novegagraffitarini/Desktop/My Python Stuff')"
   ]
  },
  {
   "cell_type": "code",
   "execution_count": null,
   "id": "43156e57",
   "metadata": {},
   "outputs": [],
   "source": []
  },
  {
   "cell_type": "code",
   "execution_count": null,
   "id": "4f7c76dc",
   "metadata": {},
   "outputs": [],
   "source": []
  }
 ],
 "metadata": {
  "interpreter": {
   "hash": "aee8b7b246df8f9039afb4144a1f6fd8d2ca17a180786b69acc140d282b71a49"
  },
  "kernelspec": {
   "display_name": "Python 3",
   "language": "python",
   "name": "python3"
  },
  "language_info": {
   "codemirror_mode": {
    "name": "ipython",
    "version": 3
   },
   "file_extension": ".py",
   "mimetype": "text/x-python",
   "name": "python",
   "nbconvert_exporter": "python",
   "pygments_lexer": "ipython3",
   "version": "3.8.8"
  },
  "toc": {
   "base_numbering": 1,
   "nav_menu": {},
   "number_sections": true,
   "sideBar": true,
   "skip_h1_title": false,
   "title_cell": "Table of Contents",
   "title_sidebar": "Contents",
   "toc_cell": false,
   "toc_position": {},
   "toc_section_display": true,
   "toc_window_display": false
  }
 },
 "nbformat": 4,
 "nbformat_minor": 5
}
